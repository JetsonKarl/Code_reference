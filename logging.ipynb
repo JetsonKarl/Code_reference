{
 "cells": [
  {
   "cell_type": "markdown",
   "metadata": {},
   "source": [
    "## **reference :[1][Python中Logging 日志模块](https://zhuanlan.zhihu.com/p/476549020)** ##\n",
    "\n",
    "# **基础功能**\n",
    "\n",
    "Logging优点：\n",
    "\n",
    "- 你可以控制消息的级别，过滤掉那些并不重要的消息。\n",
    "- 你可决定输出到什么地方，以及怎么输出。有许多的重要性别级可供选择，debug、info、warning、error 以及 critical。通过赋予 logger 或者 handler 不同的级别，你就可以只输出错误消息到特定的记录文件中，或者在调试时只记录调试信息。"
   ]
  },
  {
   "cell_type": "code",
   "execution_count": 2,
   "metadata": {},
   "outputs": [],
   "source": [
    "import logging\n",
    "\n",
    "# 1、创建一个logger\n",
    "logger = logging.getLogger('mylogger')\n",
    "logger.setLevel(logging.DEBUG)\n",
    "\n",
    "# 2、创建一个handler，用于写入日志文件\n",
    "fh = logging.FileHandler('test.log')\n",
    "fh.setLevel(logging.DEBUG)\n",
    "\n",
    "# 再创建一个handler，用于输出到控制台\n",
    "ch = logging.StreamHandler()\n",
    "ch.setLevel(logging.DEBUG)\n",
    "\n",
    "# 3、定义handler的输出格式（formatter）\n",
    "formatter = logging.Formatter('%(asctime)s - %(name)s - %(levelname)s - %(message)s')\n",
    "\n",
    "# 4、给handler添加formatter\n",
    "fh.setFormatter(formatter)\n",
    "ch.setFormatter(formatter)\n",
    "\n",
    "# 5、给logger添加handler\n",
    "logger.addHandler(fh)\n",
    "logger.addHandler(ch)\n"
   ]
  },
  {
   "cell_type": "markdown",
   "metadata": {},
   "source": [
    "根据它们用来跟踪的事件的级别或事件的严重程度命名的。以下描述了标准水平及其适用性（按严重程度的增加顺序）:\n",
    "\n",
    "**DEBUG < INFO < WARNING < ERROR < CRITICAL**\n",
    "\n",
    "\n",
    "## **简单例子**"
   ]
  },
  {
   "cell_type": "code",
   "execution_count": 3,
   "metadata": {},
   "outputs": [
    {
     "name": "stderr",
     "output_type": "stream",
     "text": [
      "WARNING:root:Watch out!\n"
     ]
    }
   ],
   "source": [
    "import logging\n",
    "logging.warning('Watch out!')  # will print a message to the console\n",
    "logging.info('I told you so')  # will not print anything"
   ]
  },
  {
   "cell_type": "markdown",
   "metadata": {},
   "source": [
    "## **将日志写入到一个文件中**"
   ]
  },
  {
   "cell_type": "code",
   "execution_count": 8,
   "metadata": {},
   "outputs": [
    {
     "name": "stderr",
     "output_type": "stream",
     "text": [
      "WARNING:root:And this, too\n",
      "ERROR:root:And non-ASCII stuff, too, like Øresund and Malmö\n"
     ]
    }
   ],
   "source": [
    "import logging\n",
    "import os\n",
    "os.chdir(\"./\") # 日志写入地址\n",
    "logging.basicConfig(filename='example.log', level=logging.INFO) \n",
    "# 注意：上面level设置的是显示的最低严重级别，小于level设置的最低严重级别将不会打印出来\n",
    "logging.debug('This message should go to the log file')\n",
    "logging.info('So should this')\n",
    "logging.warning('And this, too')\n",
    "logging.error('And non-ASCII stuff, too, like Øresund and Malmö')"
   ]
  },
  {
   "cell_type": "markdown",
   "metadata": {},
   "source": [
    "basicConfig()函数要在debug()、info()等运行，且只要第一次运行才生效。后续的调用都是无效的。上述logging.basicConfig()写入的日志是增量的写入。如果想要覆盖之前的日志，可以设定为："
   ]
  }
 ],
 "metadata": {
  "kernelspec": {
   "display_name": "Python 3.7.0 ('base')",
   "language": "python",
   "name": "python3"
  },
  "language_info": {
   "codemirror_mode": {
    "name": "ipython",
    "version": 3
   },
   "file_extension": ".py",
   "mimetype": "text/x-python",
   "name": "python",
   "nbconvert_exporter": "python",
   "pygments_lexer": "ipython3",
   "version": "3.7.0"
  },
  "orig_nbformat": 4,
  "vscode": {
   "interpreter": {
    "hash": "b48ab366bbf95146c4fa343ee80e0ad98cd60847d017bae4fe7c00da3334c219"
   }
  }
 },
 "nbformat": 4,
 "nbformat_minor": 2
}
