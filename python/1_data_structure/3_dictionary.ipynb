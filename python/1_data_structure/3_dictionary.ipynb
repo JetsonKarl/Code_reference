{
 "cells": [
  {
   "attachments": {},
   "cell_type": "markdown",
   "metadata": {},
   "source": [
    "## 基本操作(创建、访问、添加、修改、删除、拼接)"
   ]
  },
  {
   "cell_type": "code",
   "execution_count": null,
   "metadata": {},
   "outputs": [],
   "source": [
    "# 创建空字典\n",
    "content = {}\n",
    "\n",
    "content = {'color':'green','points':5}\n",
    "\n",
    "# 访问字典的值\n",
    "print(content['color']) \n",
    "# 在 Python 的 OrderedDict 中，使用 .get() 方法访问字典中的键值对与使用中括号（[]）访问是有一些差别的。\n",
    "# 当使用 .get() 方法时，如果字典中不存在指定的键，则返回一个默认值（如果提供了默认值参数），否则返回 None\n",
    "'''\n",
    "Num:1\n",
    "dict.get(key, default=None)\n",
    "·参数\n",
    "        key -- 字典中要查找的键。\n",
    "        default -- 如果指定键的值不存在时，返回该默认值。\n",
    "·返回值\n",
    "        返回指定键的值，如果键不在字典中返回默认值 None 或者设置的默认值。\n",
    "'''\n",
    "\n",
    "content = {'color':'green','points':5}\n",
    "point_value = content.get('points','No point value assigned')\n",
    "print(point_value)\n",
    "\n",
    "# 添加键值对\n",
    "content['x_position'] = 0\n",
    "\n",
    "# 修改字典的值\n",
    "content['color'] = 'red'\n",
    "\n",
    "# 删除键值对\n",
    "del content['color']\n",
    "print(content)\n",
    "\n",
    "#字典拼接 update()\n",
    "dict1 = {'a': 1, 'b': 2}\n",
    "dict2 = {'c': 3, 'd': 4}\n",
    "\n",
    "dict1.update(dict2)\n",
    "print(dict1)  # 输出结果：{'a': 1, 'b': 2, 'c': 3, 'd': 4}"
   ]
  },
  {
   "attachments": {},
   "cell_type": "markdown",
   "metadata": {},
   "source": [
    "## 遍历字典"
   ]
  },
  {
   "cell_type": "code",
   "execution_count": null,
   "metadata": {},
   "outputs": [],
   "source": [
    "content = {\n",
    "        'username'    : 'red',\n",
    "        'first'         : 'enrico',\n",
    "        'last'          : 'fermi',\n",
    "        }\n",
    "\n",
    "#1.遍历所有键值对\n",
    "for key,value in content.items():\n",
    "        print(f\"\\nKey,{key}\")\n",
    "        print(f\"Value,{value}\")\n",
    "#.items()返回一个键值对列表\n",
    "print(f\"\\n\")\n",
    "\n",
    "#2.遍历字典中的所有键\n",
    "for name in content:\n",
    "    print(name)\n",
    "print(f\"\\n\")\n",
    "for key in content.keys():\n",
    "        print(key.title())"
   ]
  },
  {
   "cell_type": "code",
   "execution_count": null,
   "metadata": {},
   "outputs": [],
   "source": [
    "#3.按特定顺序遍历字典中的所有键\n",
    "for key in sorted(content.keys()):\n",
    "    print(key.title())\n",
    "print(f\"\\n\")\n",
    "#4.遍历字典中的所有值\n",
    "for value in content.values():\n",
    "    print(value.title())\n",
    "print(f\"\\n\")\n",
    "#5.遍历字典中的所有值，并剔除重复项\n",
    "for value in set(content.values()):\n",
    "    print(value.title())\n",
    "    \n",
    "'''\n",
    "可以使用一对花括号来直接创建集合，并用逗号分割，集合不会以特定的顺序存储元素\n",
    "languages = {'python','ruby','python','c'}\n",
    "print(languages)\n",
    "#{'ruby','python','c'}\n",
    "'''"
   ]
  },
  {
   "attachments": {},
   "cell_type": "markdown",
   "metadata": {},
   "source": [
    "## 嵌套"
   ]
  },
  {
   "cell_type": "code",
   "execution_count": null,
   "metadata": {},
   "outputs": [],
   "source": [
    "#1.字典列表\n",
    "aliens = []\n",
    "for alien_nember in range(30):\n",
    "        new_alien = {'color':'green','points':5,'speed':'slow'}\n",
    "        aliens.append(new_alien)\n",
    "for alien in aliens[:3]:\n",
    "        if alien['color'] == 'green':\n",
    "                alien['color'] = 'yellow'\n",
    "                alien['speed'] = 'meduim'\n",
    "                alien['points'] = 10\n",
    "        elif alien['color'] == 'yellow':\n",
    "                alien['color'] = 'red'\n",
    "                alien['speed'] = 'fast'\n",
    "                alien['points'] = 15\n",
    "for alien in aliens[:5]:\n",
    "        print(alien)"
   ]
  },
  {
   "cell_type": "code",
   "execution_count": null,
   "metadata": {},
   "outputs": [],
   "source": [
    "\n",
    "#2.在字典中存储列表\n",
    "favorite_languages = {\n",
    "        'jen':['python','ruby'],\n",
    "        'sarah':['c'],\n",
    "        'edward':['ruby','go'],\n",
    "        'phil':['python','haskell'],\n",
    "        }\n",
    "for name ,languages in favorite_languages.items():\n",
    "        print(f\"\\n{name.title}'s favorite languages are:\")\n",
    "        for language in languages:\n",
    "                print(f\"\\t{language.title()}\")\n"
   ]
  },
  {
   "cell_type": "code",
   "execution_count": null,
   "metadata": {},
   "outputs": [],
   "source": [
    "\n",
    "#3.在字典中存储字典\n",
    "user = {\n",
    "        'aeinstein':{\n",
    "                'first':'albert',\n",
    "                'last':'einstein',\n",
    "                'location':'princeton',\n",
    "        },\n",
    "\n",
    "        'mcurie':{\n",
    "                'first':'marie',\n",
    "                'last':'curie',\n",
    "                'location':'paris',\n",
    "        },\n",
    "}"
   ]
  }
 ],
 "metadata": {
  "kernelspec": {
   "display_name": "base",
   "language": "python",
   "name": "python3"
  },
  "language_info": {
   "codemirror_mode": {
    "name": "ipython",
    "version": 3
   },
   "file_extension": ".py",
   "mimetype": "text/x-python",
   "name": "python",
   "nbconvert_exporter": "python",
   "pygments_lexer": "ipython3",
   "version": "3.7.0"
  },
  "orig_nbformat": 4
 },
 "nbformat": 4,
 "nbformat_minor": 2
}
