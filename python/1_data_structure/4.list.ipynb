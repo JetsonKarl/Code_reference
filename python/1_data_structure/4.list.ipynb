{
 "cells": [
  {
   "attachments": {},
   "cell_type": "markdown",
   "metadata": {},
   "source": [
    "## 索引"
   ]
  },
  {
   "cell_type": "code",
   "execution_count": 33,
   "metadata": {},
   "outputs": [
    {
     "name": "stdout",
     "output_type": "stream",
     "text": [
      "['a', 'b', 'c']\n",
      "['a', 'b', 'c']\n",
      "['a', 'b', 'c']\n"
     ]
    }
   ],
   "source": [
    "# 切片：[:]\n",
    "listA = ['a','b','c']\n",
    "listB = listA[:] #复制值，而不是地址\n",
    "print(listB)\n",
    "\n",
    "listA[::-1]#列表反转\n",
    "print(listA)\n",
    "print(listA[::-1])"
   ]
  },
  {
   "attachments": {},
   "cell_type": "markdown",
   "metadata": {},
   "source": [
    "## 创建与拼接"
   ]
  },
  {
   "cell_type": "code",
   "execution_count": 22,
   "metadata": {},
   "outputs": [
    {
     "name": "stdout",
     "output_type": "stream",
     "text": [
      "[1, 1, 1]\n",
      "[1, 1, 1, 1, 1, 1]\n",
      "[[1, 1, 1], [1, 1, 1]]\n",
      "[[1, 1, 10], [1, 1, 10]]\n",
      "[1, 3, 4, 'a', 'b', 'c']\n",
      "[[1, 3, 4], ['a', 'b', 'c']]\n"
     ]
    }
   ],
   "source": [
    "# 创建：+ 将左右序列连接在一起\n",
    "my_list = [1]*3 #重复N次连接\n",
    "print(my_list)\n",
    "\n",
    "new_list = my_list*2\n",
    "print(new_list)\n",
    "\n",
    "new_list = [my_list]*2\n",
    "print(new_list)\n",
    "\n",
    "my_list[2] = 10 #重复运算返回的结果是序列中只想数据对象的引用的重复\n",
    "print(new_list)\n",
    "\n",
    "list1 = [1,3,4]\n",
    "list2 = ['a','b','c']\n",
    "print(list1+list2)\n",
    "print([list1]+[list2])\n",
    "\n",
    "#列表里面的元素可以是不同数据类型或其他子列表\n",
    "data=['s',[88,89],'english']"
   ]
  },
  {
   "cell_type": "code",
   "execution_count": 26,
   "metadata": {},
   "outputs": [
    {
     "name": "stdout",
     "output_type": "stream",
     "text": [
      "[0, 1, 2, 3, 4, 5, 6, 7, 8, 9]\n",
      "[1, 3, 5, 7, 9]\n",
      "[]\n"
     ]
    }
   ],
   "source": [
    "#list(range())\n",
    "print(list(range(10)))\n",
    "print(list(range(1,10,2)))\n",
    "print(list(range(5,10,-1)))"
   ]
  },
  {
   "cell_type": "code",
   "execution_count": 23,
   "metadata": {},
   "outputs": [
    {
     "data": {
      "text/plain": [
       "0"
      ]
     },
     "execution_count": 23,
     "metadata": {},
     "output_type": "execute_result"
    }
   ],
   "source": [
    "#3.索引\n",
    "\n",
    "# 根据元素索引列表\n",
    "list.index(data,'s')"
   ]
  },
  {
   "attachments": {},
   "cell_type": "markdown",
   "metadata": {},
   "source": [
    "## 循环"
   ]
  },
  {
   "cell_type": "code",
   "execution_count": 15,
   "metadata": {},
   "outputs": [
    {
     "name": "stdout",
     "output_type": "stream",
     "text": [
      "ok\n",
      "[1, 2, 3, 4, 6]\n"
     ]
    }
   ],
   "source": [
    "listA = [1,2,3,4,5,6]\n",
    "\n",
    "while list:\n",
    "    print('ok')\n",
    "    break\n",
    "#只要list不为空就执行\n",
    "while 5 in listA:\n",
    "        listA.remove(5)\n",
    "print(listA)"
   ]
  },
  {
   "attachments": {},
   "cell_type": "markdown",
   "metadata": {},
   "source": [
    "## 删除元素"
   ]
  },
  {
   "attachments": {},
   "cell_type": "markdown",
   "metadata": {},
   "source": [
    "- del list[i]：永久删除列表中第i个元素\n",
    "- list.pop()：删除并返回列表最后一个元素\n",
    "- list.pop(i)：删除并返回列表中第i个元素\n",
    "- list.remove(item)：删除第一个出现的item"
   ]
  },
  {
   "attachments": {},
   "cell_type": "markdown",
   "metadata": {},
   "source": [
    "## 添加元素\n",
    "- list.append(item)，将新元素加入到列表末端\n",
    "- list.insert(i,item)，在列表的第i个位置插入一个元素\n",
    "- list.extend(seq)\n",
    "- 在列表中插入元素：list.insert(index,'xxx')，在索引index处插入元素，其他右移"
   ]
  },
  {
   "cell_type": "code",
   "execution_count": 24,
   "metadata": {},
   "outputs": [
    {
     "name": "stdout",
     "output_type": "stream",
     "text": [
      "Extended List : \n"
     ]
    },
    {
     "data": {
      "text/plain": [
       "(None, [123, 'xyz', 'zara', 'abc', 123, 2009, 'manni'])"
      ]
     },
     "execution_count": 24,
     "metadata": {},
     "output_type": "execute_result"
    }
   ],
   "source": [
    "#!/usr/bin/python\n",
    "\n",
    "aList = [123, 'xyz', 'zara', 'abc', 123]\n",
    "bList = [2009, 'manni']\n",
    "aList.extend(bList)\n",
    "print( \"Extended List : \"), aList \n"
   ]
  },
  {
   "attachments": {},
   "cell_type": "markdown",
   "metadata": {},
   "source": [
    "## 排序\n",
    "- list.sort()：永久正序修改\n",
    "- list.sort(inverse=True)：永久逆序修改\n",
    "- list.reverse()：永久性倒序修改\n",
    "- sorted(list,inverse=True)：临时逆序修改"
   ]
  },
  {
   "cell_type": "code",
   "execution_count": 27,
   "metadata": {},
   "outputs": [
    {
     "name": "stdout",
     "output_type": "stream",
     "text": [
      "['1_0.jpg', '1_2.jpg', '1_4.jpg']\n"
     ]
    }
   ],
   "source": [
    "def function(date):\n",
    "    return date[-5:-4]\n",
    "s = ['1_4.jpg','1_2.jpg','1_0.jpg']\n",
    "s.sort(key=function)\n",
    "print(s)"
   ]
  },
  {
   "attachments": {},
   "cell_type": "markdown",
   "metadata": {},
   "source": [
    "## 列表计算\n",
    "- len(list)：返回列表数量\n",
    "- min(list)\n",
    "- max(list)\n",
    "- sum(list)\n",
    "- list.count(item)，计算列表中x出现的次数\n",
    "- list.index(item)，返回item第一次出现时的下标"
   ]
  },
  {
   "cell_type": "code",
   "execution_count": 29,
   "metadata": {},
   "outputs": [
    {
     "data": {
      "text/plain": [
       "2.5"
      ]
     },
     "execution_count": 29,
     "metadata": {},
     "output_type": "execute_result"
    }
   ],
   "source": [
    "from statistics import mean\n",
    "lista = [1,2,3,4]\n",
    "mean(lista)"
   ]
  },
  {
   "attachments": {},
   "cell_type": "markdown",
   "metadata": {},
   "source": [
    "## 列表解析器"
   ]
  },
  {
   "cell_type": "code",
   "execution_count": 32,
   "metadata": {},
   "outputs": [
    {
     "name": "stdout",
     "output_type": "stream",
     "text": [
      "[1, 4, 9, 16, 25, 36, 49, 64, 81, 100]\n"
     ]
    }
   ],
   "source": [
    "squares = [value**2 for value in range(1,11)]\n",
    "print(squares)\n",
    "# 其实列表解析可以看成是这样的\n",
    "\n",
    "# [变量(或变量运算表达式) 迭代器（可迭代对象 相当于是一个for循环）筛选条件]"
   ]
  }
 ],
 "metadata": {
  "kernelspec": {
   "display_name": "base",
   "language": "python",
   "name": "python3"
  },
  "language_info": {
   "codemirror_mode": {
    "name": "ipython",
    "version": 3
   },
   "file_extension": ".py",
   "mimetype": "text/x-python",
   "name": "python",
   "nbconvert_exporter": "python",
   "pygments_lexer": "ipython3",
   "version": "3.7.0"
  },
  "orig_nbformat": 4
 },
 "nbformat": 4,
 "nbformat_minor": 2
}
