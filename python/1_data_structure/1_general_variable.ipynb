{
 "cells": [
  {
   "attachments": {},
   "cell_type": "markdown",
   "metadata": {},
   "source": [
    "## 变量\n",
    "\n",
    "变量的定义与使用：字母/数字/下划线组成，字母/下划线开头"
   ]
  },
  {
   "attachments": {},
   "cell_type": "markdown",
   "metadata": {},
   "source": [
    "## 字符串"
   ]
  },
  {
   "attachments": {},
   "cell_type": "markdown",
   "metadata": {},
   "source": [
    "字符串：单引号、双引号都可以\n",
    "- string.title()：首字母大写\n",
    "- string.upper()：全部大写\n",
    "- string.lower()：全部小写\n",
    "- string.rstrip()：暂时去除字字符串末尾空白\n",
    "- string.lstrip()：暂时去除字字符串开头空白\n",
    "- string.strip()：暂时去除字字符串两侧空白\n",
    "- f字符串，将花括号里面的变量替换为其值来设置字符串格式，f字符串，将变量的值插入字符串，print(f\"Hello,{full_name.title()}!\"，python3.6引入的，之前版本要用到format()，如full_name = \"{} {}\".format(first_name , last_name)\n",
    "- 字符串中：\\n为换行符，\\t为制表符"
   ]
  },
  {
   "cell_type": "code",
   "execution_count": 2,
   "metadata": {},
   "outputs": [
    {
     "name": "stdout",
     "output_type": "stream",
     "text": [
      "ada lovepeace\n"
     ]
    }
   ],
   "source": [
    "first_name = 'ada'\n",
    "last_name = 'lovepeace'\n",
    "full_name = f'{first_name} {last_name}'\n",
    "print(full_name)"
   ]
  },
  {
   "attachments": {},
   "cell_type": "markdown",
   "metadata": {},
   "source": [
    "### isnumeric()"
   ]
  },
  {
   "cell_type": "code",
   "execution_count": null,
   "metadata": {},
   "outputs": [],
   "source": [
    "str.isnumeric()\n",
    "# Python isnumeric() 方法检测字符串是否只由数字组成。这种方法是只针对unicode对象。\n",
    "# 定义一个字符串为Unicode，只需要在字符串前添加 'u' 前缀即可\n",
    "\n",
    "str = u\"this2009\"\n",
    "print(str.isnumeric()) # False\n",
    "\n",
    "str = u\"23443434\";\n",
    "print(str.isnumeric()) # True"
   ]
  }
 ],
 "metadata": {
  "kernelspec": {
   "display_name": "base",
   "language": "python",
   "name": "python3"
  },
  "language_info": {
   "codemirror_mode": {
    "name": "ipython",
    "version": 3
   },
   "file_extension": ".py",
   "mimetype": "text/x-python",
   "name": "python",
   "nbconvert_exporter": "python",
   "pygments_lexer": "ipython3",
   "version": "3.7.0"
  },
  "orig_nbformat": 4
 },
 "nbformat": 4,
 "nbformat_minor": 2
}
