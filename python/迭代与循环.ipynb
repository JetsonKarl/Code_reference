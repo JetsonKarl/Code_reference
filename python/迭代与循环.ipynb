{
 "cells": [
  {
   "cell_type": "code",
   "execution_count": null,
   "metadata": {},
   "outputs": [],
   "source": [
    "for k, v in enumerate(extra_layers[1::2], 2):\n",
    "        extra_layers[1::2]#表示从extra_layers的第2个值开始，每两个取一个，即每隔一个取一个\n",
    "                                                                                #这个for循环的k取2，3，4…… v取网络的值"
   ]
  }
 ],
 "metadata": {
  "language_info": {
   "name": "python"
  },
  "orig_nbformat": 4
 },
 "nbformat": 4,
 "nbformat_minor": 2
}
