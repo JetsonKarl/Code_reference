{
 "cells": [
  {
   "cell_type": "code",
   "execution_count": 5,
   "metadata": {},
   "outputs": [
    {
     "name": "stdout",
     "output_type": "stream",
     "text": [
      "2 2\n",
      "3 4\n",
      "4 6\n",
      "5 8\n"
     ]
    }
   ],
   "source": [
    "extra_layers = range(1,10)\n",
    "for k, v in enumerate(extra_layers[1::2], 2): # 用于枚举 extra_layers 列表中奇数位置上的元素，并从 2 开始计数。\n",
    "    print(k,v) # extra_layers[1::2]#表示从extra_layers的第2个值开始，每两个取一个，即每隔一个取一个\n",
    "    # k是序号，从2开始取；v是值"
   ]
  }
 ],
 "metadata": {
  "kernelspec": {
   "display_name": "base",
   "language": "python",
   "name": "python3"
  },
  "language_info": {
   "codemirror_mode": {
    "name": "ipython",
    "version": 3
   },
   "file_extension": ".py",
   "mimetype": "text/x-python",
   "name": "python",
   "nbconvert_exporter": "python",
   "pygments_lexer": "ipython3",
   "version": "3.7.0"
  },
  "orig_nbformat": 4
 },
 "nbformat": 4,
 "nbformat_minor": 2
}
