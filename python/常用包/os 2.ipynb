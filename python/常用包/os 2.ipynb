{
 "cells": [
  {
   "cell_type": "code",
   "execution_count": null,
   "metadata": {},
   "outputs": [],
   "source": []
  },
  {
   "attachments": {},
   "cell_type": "markdown",
   "metadata": {},
   "source": [
    "\n",
    "\n",
    "## **os.mkdir()**\n",
    "必须要有上级目录\n",
    "\n",
    "## **os.makedir()**\n",
    "\n",
    "直接无脑创建\n",
    "\n",
    "## **os.path.relpath()**\n",
    "os.path.relpath(path[, start])\n",
    "\n",
    "功能：绝对路径转换为相对路径\n",
    "\n",
    "从start后面第一个文件夹或者文件开始计算相对路径：path一般是绝对路径，而start是path的一部分。\n"
   ]
  },
  {
   "cell_type": "code",
   "execution_count": 6,
   "metadata": {},
   "outputs": [
    {
     "name": "stdout",
     "output_type": "stream",
     "text": [
      "..\\..\\data_structure\n"
     ]
    }
   ],
   "source": [
    "import os\n",
    "#1.绝对路径转换为相对路径\n",
    "os.getcwd() #'D:\\\\source code\\\\SR'\n",
    "print(os.path.relpath('E:\\code\\X6_notes\\python\\data_structure', 'python'))# S\n",
    "\n"
   ]
  },
  {
   "attachments": {},
   "cell_type": "markdown",
   "metadata": {},
   "source": [
    "## **os.chdir(path)**\n",
    "| 参数 | 描述 |\n",
    "| :-- | :--: |\n",
    "| 概述 | os.chdir() 方法用于改变当前工作目录到指定的路径。 |\n",
    "| 语法 | os.chdir(path) |\n",
    "| 参数 | path：要切换到的新路径 |\n",
    "| 返回值 | 如果允许访问返回 True , 否则返回False。 |"
   ]
  },
  {
   "cell_type": "code",
   "execution_count": 10,
   "metadata": {},
   "outputs": [
    {
     "name": "stdout",
     "output_type": "stream",
     "text": [
      "当前工作目录为 e:\\code\\X6_notes\\python\\常用包\n",
      "目录修改成功 E:\\code\\X6_notes\\python\\1_data_structure\n"
     ]
    }
   ],
   "source": [
    "#!/usr/bin/python\n",
    "# -*- coding: UTF-8 -*-\n",
    "import os, sys\n",
    "path = \"E:/code/X6_notes/python/1_data_structure\"\n",
    "retval = os.getcwd() # 查看当前工作目录\n",
    "print(\"当前工作目录为 %s\" % retval   )           # 输出：当前工作目录为 /www\n",
    "os.chdir( path )    # 修改当前工作目录\n",
    "retval = os.getcwd() # 查看修改后的工作目录\n",
    "print(\"目录修改成功 %s\" % retval  )              # 输出：目录修改成功 /tmp"
   ]
  }
 ],
 "metadata": {
  "kernelspec": {
   "display_name": "base",
   "language": "python",
   "name": "python3"
  },
  "language_info": {
   "codemirror_mode": {
    "name": "ipython",
    "version": 3
   },
   "file_extension": ".py",
   "mimetype": "text/x-python",
   "name": "python",
   "nbconvert_exporter": "python",
   "pygments_lexer": "ipython3",
   "version": "3.7.0"
  },
  "orig_nbformat": 4
 },
 "nbformat": 4,
 "nbformat_minor": 2
}
