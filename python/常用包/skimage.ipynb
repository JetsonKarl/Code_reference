{
 "cells": [
  {
   "cell_type": "code",
   "execution_count": null,
   "metadata": {},
   "outputs": [],
   "source": [
    "from skimage import color\n",
    "from PIL import Image\n",
    "import numpy as np\n",
    "img_rgb_orig = np.asarray(Image.open(\"\"))\n",
    "img_lab_orig = color.rgb2lab(img_rgb_orig) # 操作对象是np.array"
   ]
  }
 ],
 "metadata": {
  "language_info": {
   "name": "python"
  },
  "orig_nbformat": 4
 },
 "nbformat": 4,
 "nbformat_minor": 2
}
