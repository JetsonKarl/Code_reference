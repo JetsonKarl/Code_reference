{
 "cells": [
  {
   "cell_type": "code",
   "execution_count": null,
   "metadata": {},
   "outputs": [],
   "source": [
    "\n",
    "import os\n",
    "import argparse\n",
    "\n",
    "parser = argparse.ArgumentParser(description='Demo of argparse')\n",
    "parser.add_argument('--config', is_config_file=True, default='./configs/GTZ_Blender.txt', \n",
    "                    help='config file path')\n",
    "parser.add_argument(\"--expname\", type=str, \n",
    "                    help='experiment name')\n",
    "parser.add_argument(\"--basedir\", type=str, default='./logs/', \n",
    "                    help='where to store ckpts and logs')\n",
    "args = parser.parse_args()\n",
    "\n",
    "path_name = 'save'\n",
    "\n",
    "f = os.path.join(path_name, 'args.txt')  #创建参数文件\n",
    "with open(f, 'w') as file:\n",
    "    for arg in sorted(vars(args)):      #将参数文件写入args.txt\n",
    "        attr = getattr(args, arg)\n",
    "        file.write('{} = {}\\n'.format(arg, attr))\n",
    "        "
   ]
  },
  {
   "cell_type": "code",
   "execution_count": null,
   "metadata": {},
   "outputs": [],
   "source": []
  }
 ],
 "metadata": {
  "kernelspec": {
   "display_name": "Python 3.7.0 ('base')",
   "language": "python",
   "name": "python3"
  },
  "language_info": {
   "codemirror_mode": {
    "name": "ipython",
    "version": 3
   },
   "file_extension": ".py",
   "mimetype": "text/x-python",
   "name": "python",
   "nbconvert_exporter": "python",
   "pygments_lexer": "ipython3",
   "version": "3.7.0"
  },
  "orig_nbformat": 4,
  "vscode": {
   "interpreter": {
    "hash": "b48ab366bbf95146c4fa343ee80e0ad98cd60847d017bae4fe7c00da3334c219"
   }
  }
 },
 "nbformat": 4,
 "nbformat_minor": 2
}
