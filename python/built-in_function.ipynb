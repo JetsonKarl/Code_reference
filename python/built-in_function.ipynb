{
 "cells": [
  {
   "cell_type": "code",
   "execution_count": null,
   "metadata": {},
   "outputs": [],
   "source": []
  }
 ],
 "metadata": {
  "kernelspec": {
   "display_name": "Python 3.7.0 ('base')",
   "language": "python",
   "name": "python3"
  },
  "language_info": {
   "name": "python",
   "version": "3.7.0"
  },
  "orig_nbformat": 4,
  "vscode": {
   "interpreter": {
    "hash": "b48ab366bbf95146c4fa343ee80e0ad98cd60847d017bae4fe7c00da3334c219"
   }
  }
 },
 "nbformat": 4,
 "nbformat_minor": 2
}
