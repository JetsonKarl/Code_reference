{
 "cells": [
  {
   "cell_type": "code",
   "execution_count": null,
   "metadata": {},
   "outputs": [],
   "source": [
    "import os\n",
    "from shutil import copyfile\n",
    "from shutil import move\n",
    "\n",
    "#function:find all files in this folder\n",
    "for file in os.listdir('<your_path>'):\n",
    "    file = file.replace('.txt','.jpg')\n",
    "    if os.path.exists('train_RGB/'+file):\n",
    "        copyfile('<source_path>','<target_path>')\n",
    "\n",
    "with open(path,'r') as r:\n",
    "    lines = r.readlines()\n",
    "with open(path,'w') as w:\n",
    "    for line in lines :\n",
    "        target = line.rstrip().split(' ')\n",
    "    w.write(target)"
   ]
  },
  {
   "cell_type": "markdown",
   "metadata": {},
   "source": [
    "文件读写"
   ]
  },
  {
   "cell_type": "code",
   "execution_count": null,
   "metadata": {},
   "outputs": [],
   "source": [
    "f = os.path.join(path_name, 'config.txt')\n",
    "with open(f, 'w') as file:          #将配置文件写入config.txt\n",
    "    file.write(open(args.config, 'r').read())"
   ]
  },
  {
   "cell_type": "markdown",
   "metadata": {},
   "source": [
    "图片读写"
   ]
  },
  {
   "cell_type": "code",
   "execution_count": null,
   "metadata": {},
   "outputs": [],
   "source": [
    "basedir = 'file_path'\n",
    "#将图片路径按照名称排序\n",
    "img0 = [os.path.join(basedir, 'images', f) for f in sorted(os.listdir(os.path.join(basedir, 'images'))) \\\n",
    "        if f.endswith('JPG') or f.endswith('jpg') or f.endswith('png')][0]"
   ]
  },
  {
   "cell_type": "markdown",
   "metadata": {},
   "source": [
    "<font size=3>注意最后面的0，是选择img0的第0张图像,[0]的位置很关键，注意与下面代码的区别</font>"
   ]
  },
  {
   "cell_type": "code",
   "execution_count": null,
   "metadata": {},
   "outputs": [],
   "source": [
    "img0 = [os.path.join(basedir, 'images', f)[0] for f in sorted(os.listdir(os.path.join(basedir, 'images'))) \\\n",
    "        if f.endswith('JPG') or f.endswith('jpg') or f.endswith('png')]"
   ]
  }
 ],
 "metadata": {
  "kernelspec": {
   "display_name": "Python 3.7.0 ('base')",
   "language": "python",
   "name": "python3"
  },
  "language_info": {
   "codemirror_mode": {
    "name": "ipython",
    "version": 3
   },
   "file_extension": ".py",
   "mimetype": "text/x-python",
   "name": "python",
   "nbconvert_exporter": "python",
   "pygments_lexer": "ipython3",
   "version": "3.7.0"
  },
  "orig_nbformat": 4,
  "vscode": {
   "interpreter": {
    "hash": "b48ab366bbf95146c4fa343ee80e0ad98cd60847d017bae4fe7c00da3334c219"
   }
  }
 },
 "nbformat": 4,
 "nbformat_minor": 2
}
