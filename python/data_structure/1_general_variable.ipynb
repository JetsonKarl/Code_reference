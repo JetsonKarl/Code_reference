{
 "cells": [
  {
   "attachments": {},
   "cell_type": "markdown",
   "metadata": {},
   "source": [
    "## 变量\n",
    "\n",
    "变量的定义与使用：字母/数字/下划线组成，字母/下划线开头"
   ]
  },
  {
   "attachments": {},
   "cell_type": "markdown",
   "metadata": {},
   "source": [
    "## 字符串"
   ]
  },
  {
   "attachments": {},
   "cell_type": "markdown",
   "metadata": {},
   "source": [
    "字符串：单引号、双引号都可以\n",
    "- string.title()：首字母大写\n",
    "- string.upper()：全部大写\n",
    "- string.lower()：全部小写\n",
    "- string.rstrip()：暂时去除字字符串末尾空白\n",
    "- string.lstrip()：暂时去除字字符串开头空白\n",
    "- string.strip()：暂时去除字字符串两侧空白\n",
    "- f字符串，将花括号里面的变量替换为其值来设置字符串格式，f字符串，将变量的值插入字符串，print(f\"Hello,{full_name.title()}!\"，python3.6引入的，之前版本要用到format()，如full_name = \"{} {}\".format(first_name , last_name)\n",
    "- 字符串中：\\n为换行符，\\t为制表符"
   ]
  },
  {
   "cell_type": "code",
   "execution_count": 2,
   "metadata": {},
   "outputs": [
    {
     "name": "stdout",
     "output_type": "stream",
     "text": [
      "ada lovepeace\n"
     ]
    }
   ],
   "source": [
    "first_name = 'ada'\n",
    "last_name = 'lovepeace'\n",
    "full_name = f'{first_name} {last_name}'\n",
    "print(full_name)"
   ]
  },
  {
   "attachments": {},
   "cell_type": "markdown",
   "metadata": {},
   "source": [
    "### isnumeric()"
   ]
  },
  {
   "cell_type": "code",
   "execution_count": 4,
   "metadata": {},
   "outputs": [
    {
     "name": "stdout",
     "output_type": "stream",
     "text": [
      "False\n",
      "True\n"
     ]
    }
   ],
   "source": [
    "# str.isnumeric()\n",
    "# Python isnumeric() 方法检测字符串是否只由数字组成。这种方法是只针对unicode对象。\n",
    "# 定义一个字符串为Unicode，只需要在字符串前添加 'u' 前缀即可\n",
    "\n",
    "str = u\"this2009\"\n",
    "print(str.isnumeric()) # False\n",
    "\n",
    "str = u\"23443434\";\n",
    "print(str.isnumeric()) # True"
   ]
  },
  {
   "attachments": {},
   "cell_type": "markdown",
   "metadata": {},
   "source": [
    "## 数"
   ]
  },
  {
   "attachments": {},
   "cell_type": "markdown",
   "metadata": {},
   "source": [
    "整数：**代表乘方运算\n",
    "\n",
    "浮点数：_"
   ]
  },
  {
   "cell_type": "code",
   "execution_count": 5,
   "metadata": {},
   "outputs": [],
   "source": [
    "#分别赋值\n",
    "a,b,c=0,1,2"
   ]
  },
  {
   "attachments": {},
   "cell_type": "markdown",
   "metadata": {},
   "source": [
    "全大写会指出某个变量为常量\n",
    "0b二进制，0x64进制，0o八进制\n",
    "- 整数：两个乘号代表乘方运算\n",
    "- 书写很大的数，可以用下划线给数字分组，python不会打印（3.6+）\n",
    "- 浮点数（所有带小数点的数）：任意两个数相除，结果总是浮点数，即便这两个数都是整数且能整除\n",
    "- 在任何操作中，如果一个操作数是整数，另一个操作数是浮点数，结果也为浮点数\n",
    "- 可以同时给多个变量赋值\n",
    "- 一般字母全大写来指出某个变量为常量\n"
   ]
  },
  {
   "attachments": {},
   "cell_type": "markdown",
   "metadata": {},
   "source": [
    "## 布尔数\n",
    "数的True也可以运算为1，False为0"
   ]
  }
 ],
 "metadata": {
  "kernelspec": {
   "display_name": "base",
   "language": "python",
   "name": "python3"
  },
  "language_info": {
   "codemirror_mode": {
    "name": "ipython",
    "version": 3
   },
   "file_extension": ".py",
   "mimetype": "text/x-python",
   "name": "python",
   "nbconvert_exporter": "python",
   "pygments_lexer": "ipython3",
   "version": "3.7.0"
  },
  "orig_nbformat": 4
 },
 "nbformat": 4,
 "nbformat_minor": 2
}
