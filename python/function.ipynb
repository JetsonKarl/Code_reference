{
 "cells": [
  {
   "cell_type": "code",
   "execution_count": null,
   "metadata": {},
   "outputs": [],
   "source": [
    "参数传递机制具有值传递（int、float等值数据类型）和引用传递（以字典、列表等非值对象数据类型为代表）两种基本机制。\n",
    "\n",
    "#禁止函数修改列表，将列表的副本传递给函数\n",
    "function_name(list_name[:])\n",
    "\n",
    "#传递任意数量的形参\n",
    "def make_pizza(*toppings):\n",
    "#形参名*toppings中的星号时让python创建一个名为toppings的空元组\n",
    "#如果是**toppings，两个星号则是创建空字典\n",
    "        print(toppings)\n",
    "\n",
    "make_pizza('a')\n",
    "make_pizza('a','b','c')\n",
    "\n",
    "#*args收集任意数量的位置实参，**args收集任意数量的关键字实参\n",
    "\n",
    "#也可以用*args和**kwargs来调用函数\n",
    "def test_args_kwargs(arg1, arg2, arg3):\n",
    "    print(\"arg1:\", arg1)\n",
    "    print(\"arg2:\", arg2)\n",
    "    print(\"arg3:\", arg3)\n",
    "\n",
    "kwargs = {\"arg1\": 3, \"arg2\": \"two\", \"arg3\": 5}\n",
    "test_args_kwargs(**kwargs)"
   ]
  }
 ],
 "metadata": {
  "language_info": {
   "name": "python"
  },
  "orig_nbformat": 4
 },
 "nbformat": 4,
 "nbformat_minor": 2
}
