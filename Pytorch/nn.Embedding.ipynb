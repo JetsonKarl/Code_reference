{
 "cells": [
  {
   "cell_type": "code",
   "execution_count": null,
   "metadata": {},
   "outputs": [],
   "source": [
    "\n",
    "# 科技猛兽\n",
    "# https://zhuanlan.zhihu.com/p/341176854\n",
    "\n",
    "# nn.Parameter是个参数，nn.Embedding是个模型，它帮你写了forward函数，\n",
    "# 你要是自己弄个nn.Parameter得自己写词嵌入的forward过程\n",
    "# embed解决离散问题，linear解决连续问题"
   ]
  }
 ],
 "metadata": {
  "language_info": {
   "name": "python"
  },
  "orig_nbformat": 4
 },
 "nbformat": 4,
 "nbformat_minor": 2
}
