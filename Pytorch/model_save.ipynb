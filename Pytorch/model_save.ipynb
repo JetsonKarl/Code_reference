{
 "cells": [
  {
   "cell_type": "code",
   "execution_count": null,
   "metadata": {},
   "outputs": [
    {
     "ename": "",
     "evalue": "",
     "output_type": "error",
     "traceback": [
      "\u001b[1;31m运行具有“pt2”的单元格需要ipykernel包。\n",
      "\u001b[1;31mRun the following command to install 'ipykernel' into the Python environment. \n",
      "\u001b[1;31mCommand: 'conda install -n pt2 ipykernel --update-deps --force-reinstall'"
     ]
    }
   ],
   "source": [
    "import torch\n",
    "import torchvision"
   ]
  },
  {
   "cell_type": "markdown",
   "metadata": {},
   "source": [
    "中断恢复训练：\n",
    "\n",
    "加载后，如果仅恢复模型权重，而忽视了其他超参数等。此时的训练不能认为和中断前的是同一次训练，在恢复初期loss很可能会升高，并且有可能会错过解空间的局部最优值。\n",
    "需要注意到，torch.save函数时可以将你想要保存的东西都存在dict中，保存到磁盘的。所以，针对这种情形，在保存的时候不要只保存模型参数，还应该保存优化器参数。参见以下代码："
   ]
  },
  {
   "cell_type": "code",
   "execution_count": null,
   "metadata": {},
   "outputs": [],
   "source": [
    "net = ResNet()\n",
    "loss = MSE()\n",
    "optimizer = torch.optim.SGD(net.parameters(), lr=0.001)\n",
    "\n",
    "\"\"\"\n",
    "正常训练的代码\n",
    "\"\"\"\n",
    "net.train()\n",
    "for epoch in range(total_epochs):\n",
    "   ...\n",
    "   loss = ...\n",
    "   loss.backward()\n",
    "   optimizer.step()\n",
    "   state_dict = {\n",
    "       \"net\": net.state_dict(), \n",
    "       \"optimizer\": optimizer.state_dict(), \n",
    "       \"epoch\": epoch\n",
    "       }\n",
    "   torch.save(state_dict, \"model_path/model.pth\")\n",
    "\n",
    "\"\"\"\n",
    "中断后，加载权重继续训练\n",
    "\"\"\"\n",
    "checkpoint = torch.load(\"model_path/model.pth\")\n",
    "current_epoch = checkpoint[\"epoch\"]\n",
    "net.load_state_dict(checkpoint['net'])\n",
    "optimizer.load_state_dict(checkpoint['optimizer'])\n",
    "net.train()\n",
    "for epoch in range(current_epoch , total_epochs):\n",
    "   ...\n",
    "   loss = ...\n",
    "   loss.backward()\n",
    "   optimizer.step()\n",
    "   state_dict = {\"net\": net.state_dict(), \"optimizer\": optimizer.state_dict(), \"epoch\": epoch}\n",
    "   torch.save(state_dict, \"model_path/model.pth\")"
   ]
  },
  {
   "cell_type": "markdown",
   "metadata": {},
   "source": []
  },
  {
   "cell_type": "code",
   "execution_count": null,
   "metadata": {},
   "outputs": [],
   "source": []
  }
 ],
 "metadata": {
  "kernelspec": {
   "display_name": "pt2",
   "language": "python",
   "name": "python3"
  },
  "language_info": {
   "name": "python",
   "version": "3.8.16"
  },
  "orig_nbformat": 4
 },
 "nbformat": 4,
 "nbformat_minor": 2
}
